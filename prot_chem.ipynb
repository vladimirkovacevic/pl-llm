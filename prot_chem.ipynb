{
 "cells": [
  {
   "cell_type": "code",
   "execution_count": 1,
   "id": "6801bbf9",
   "metadata": {},
   "outputs": [
    {
     "name": "stderr",
     "output_type": "stream",
     "text": [
      "\u001b[34m\u001b[1mwandb\u001b[0m: Using wandb-core as the SDK backend.  Please refer to https://wandb.me/wandb-core for more information.\n",
      "\u001b[34m\u001b[1mwandb\u001b[0m: Currently logged in as: \u001b[33mnikolamilicevic\u001b[0m. Use \u001b[1m`wandb login --relogin`\u001b[0m to force relogin\n"
     ]
    },
    {
     "data": {
      "text/plain": [
       "True"
      ]
     },
     "execution_count": 1,
     "metadata": {},
     "output_type": "execute_result"
    }
   ],
   "source": [
    "import wandb\n",
    "wandb.login()"
   ]
  },
  {
   "cell_type": "code",
   "execution_count": 2,
   "id": "b6fa6443",
   "metadata": {},
   "outputs": [
    {
     "data": {
      "text/html": [
       "Tracking run with wandb version 0.18.6"
      ],
      "text/plain": [
       "<IPython.core.display.HTML object>"
      ]
     },
     "metadata": {},
     "output_type": "display_data"
    },
    {
     "data": {
      "text/html": [
       "Run data is saved locally in <code>/root/finetuning/wandb/run-20250116_164646-jbjdpf0l</code>"
      ],
      "text/plain": [
       "<IPython.core.display.HTML object>"
      ]
     },
     "metadata": {},
     "output_type": "display_data"
    },
    {
     "data": {
      "text/html": [
       "Syncing run <strong><a href='https://wandb.ai/nikolamilicevic/affinity/runs/jbjdpf0l' target=\"_blank\">testing mha cross blocks</a></strong> to <a href='https://wandb.ai/nikolamilicevic/affinity' target=\"_blank\">Weights & Biases</a> (<a href='https://wandb.me/developer-guide' target=\"_blank\">docs</a>)<br/>"
      ],
      "text/plain": [
       "<IPython.core.display.HTML object>"
      ]
     },
     "metadata": {},
     "output_type": "display_data"
    },
    {
     "data": {
      "text/html": [
       " View project at <a href='https://wandb.ai/nikolamilicevic/affinity' target=\"_blank\">https://wandb.ai/nikolamilicevic/affinity</a>"
      ],
      "text/plain": [
       "<IPython.core.display.HTML object>"
      ]
     },
     "metadata": {},
     "output_type": "display_data"
    },
    {
     "data": {
      "text/html": [
       " View run at <a href='https://wandb.ai/nikolamilicevic/affinity/runs/jbjdpf0l' target=\"_blank\">https://wandb.ai/nikolamilicevic/affinity/runs/jbjdpf0l</a>"
      ],
      "text/plain": [
       "<IPython.core.display.HTML object>"
      ]
     },
     "metadata": {},
     "output_type": "display_data"
    },
    {
     "data": {
      "text/html": [
       "<button onClick=\"this.nextSibling.style.display='block';this.style.display='none';\">Display W&B run</button><iframe src='https://wandb.ai/nikolamilicevic/affinity/runs/jbjdpf0l?jupyter=true' style='border:none;width:100%;height:420px;display:none;'></iframe>"
      ],
      "text/plain": [
       "<wandb.sdk.wandb_run.Run at 0x7fcd72f479a0>"
      ]
     },
     "execution_count": 2,
     "metadata": {},
     "output_type": "execute_result"
    }
   ],
   "source": [
    "wandb.init(\n",
    "    project=\"affinity\",\n",
    "    name=\"testing mha cross blocks\",\n",
    "    config={\n",
    "        \"batch_size\": 8,\n",
    "        \"dataset\": \"testing_200k\",\n",
    "    },\n",
    ")"
   ]
  },
  {
   "cell_type": "code",
   "execution_count": 5,
   "id": "1df91290",
   "metadata": {},
   "outputs": [],
   "source": [
    "# Data\n",
    "# Created with csvcut -t -c \"Ligand SMILES,BindingDB Target Chain Sequence,IC50 (nM)\" BindingDB_All.tsv > BindingDB_fin.csv\n",
    "import pandas as pd\n",
    "\n",
    "df = pd.read_csv(\"BindingDB_fin.csv\")"
   ]
  },
  {
   "cell_type": "code",
   "execution_count": 6,
   "id": "6a4e5f23",
   "metadata": {},
   "outputs": [
    {
     "data": {
      "text/html": [
       "<div>\n",
       "<style scoped>\n",
       "    .dataframe tbody tr th:only-of-type {\n",
       "        vertical-align: middle;\n",
       "    }\n",
       "\n",
       "    .dataframe tbody tr th {\n",
       "        vertical-align: top;\n",
       "    }\n",
       "\n",
       "    .dataframe thead th {\n",
       "        text-align: right;\n",
       "    }\n",
       "</style>\n",
       "<table border=\"1\" class=\"dataframe\">\n",
       "  <thead>\n",
       "    <tr style=\"text-align: right;\">\n",
       "      <th></th>\n",
       "      <th>Ligand SMILES</th>\n",
       "      <th>BindingDB Target Chain Sequence</th>\n",
       "      <th>IC50 (nM)</th>\n",
       "    </tr>\n",
       "  </thead>\n",
       "  <tbody>\n",
       "    <tr>\n",
       "      <th>0</th>\n",
       "      <td>O[C@@H]1[C@@H](O)[C@@H](Cc2ccccc2)N(CCCCCC(O)=...</td>\n",
       "      <td>PQITLWQRPLVTIKIGGQLKEALLDTGADDTVLEEMSLPGRWKPKM...</td>\n",
       "      <td>NaN</td>\n",
       "    </tr>\n",
       "    <tr>\n",
       "      <th>1</th>\n",
       "      <td>O[C@@H]1[C@@H](O)[C@@H](Cc2ccccc2)N(C\\C=C\\c2cn...</td>\n",
       "      <td>PQITLWQRPLVTIKIGGQLKEALLDTGADDTVLEEMSLPGRWKPKM...</td>\n",
       "      <td>NaN</td>\n",
       "    </tr>\n",
       "    <tr>\n",
       "      <th>2</th>\n",
       "      <td>O[C@@H]1[C@@H](O)[C@@H](Cc2ccccc2)N(CC2CC2)C(=...</td>\n",
       "      <td>PQITLWQRPLVTIKIGGQLKEALLDTGADDTVLEEMSLPGRWKPKM...</td>\n",
       "      <td>NaN</td>\n",
       "    </tr>\n",
       "    <tr>\n",
       "      <th>3</th>\n",
       "      <td>OCCCCCCN1[C@H](Cc2ccccc2)[C@H](O)[C@@H](O)[C@@...</td>\n",
       "      <td>PQITLWQRPLVTIKIGGQLKEALLDTGADDTVLEEMSLPGRWKPKM...</td>\n",
       "      <td>NaN</td>\n",
       "    </tr>\n",
       "    <tr>\n",
       "      <th>4</th>\n",
       "      <td>OCCCCCN1[C@H](Cc2ccccc2)[C@H](O)[C@@H](O)[C@@H...</td>\n",
       "      <td>PQITLWQRPLVTIKIGGQLKEALLDTGADDTVLEEMSLPGRWKPKM...</td>\n",
       "      <td>NaN</td>\n",
       "    </tr>\n",
       "    <tr>\n",
       "      <th>...</th>\n",
       "      <td>...</td>\n",
       "      <td>...</td>\n",
       "      <td>...</td>\n",
       "    </tr>\n",
       "    <tr>\n",
       "      <th>2937446</th>\n",
       "      <td>CC[C@H]1CN(Cc2cc(C)cc(CC(O)=O)c2)CCN1c1nc2ccc(...</td>\n",
       "      <td>MGETLGDSPVDPEHGAFADALPMSTSQEITMVDTEMPFWPTNFGIS...</td>\n",
       "      <td>NaN</td>\n",
       "    </tr>\n",
       "    <tr>\n",
       "      <th>2937447</th>\n",
       "      <td>CC[C@@H]1CN(Cc2cc(C)cc(CC(O)=O)c2)CCN1c1nc2ccc...</td>\n",
       "      <td>MGETLGDSPVDPEHGAFADALPMSTSQEITMVDTEMPFWPTNFGIS...</td>\n",
       "      <td>NaN</td>\n",
       "    </tr>\n",
       "    <tr>\n",
       "      <th>2937448</th>\n",
       "      <td>CC(C)[C@@H]1CN(Cc2cc(C)cc(CC(O)=O)c2)CCN1c1nc2...</td>\n",
       "      <td>MGETLGDSPVDPEHGAFADALPMSTSQEITMVDTEMPFWPTNFGIS...</td>\n",
       "      <td>NaN</td>\n",
       "    </tr>\n",
       "    <tr>\n",
       "      <th>2937449</th>\n",
       "      <td>COc1ccc(cc1)N(C)c1nc(C)nc2[nH]ccc12</td>\n",
       "      <td>CVSASPSTLARLVSRSAMPAGSSTAWNTAFSPMARCQVTKTIGGGD...</td>\n",
       "      <td>2600</td>\n",
       "    </tr>\n",
       "    <tr>\n",
       "      <th>2937450</th>\n",
       "      <td>COc1ccc(\\C=C/c2cc(OC)c(OC)c(OC)c2)cc1O</td>\n",
       "      <td>CVSASPSTLARLVSRSAMPAGSSTAWNTAFSPMARCQVTKTIGGGD...</td>\n",
       "      <td>1000</td>\n",
       "    </tr>\n",
       "  </tbody>\n",
       "</table>\n",
       "<p>2937451 rows × 3 columns</p>\n",
       "</div>"
      ],
      "text/plain": [
       "                                             Ligand SMILES  \\\n",
       "0        O[C@@H]1[C@@H](O)[C@@H](Cc2ccccc2)N(CCCCCC(O)=...   \n",
       "1        O[C@@H]1[C@@H](O)[C@@H](Cc2ccccc2)N(C\\C=C\\c2cn...   \n",
       "2        O[C@@H]1[C@@H](O)[C@@H](Cc2ccccc2)N(CC2CC2)C(=...   \n",
       "3        OCCCCCCN1[C@H](Cc2ccccc2)[C@H](O)[C@@H](O)[C@@...   \n",
       "4        OCCCCCN1[C@H](Cc2ccccc2)[C@H](O)[C@@H](O)[C@@H...   \n",
       "...                                                    ...   \n",
       "2937446  CC[C@H]1CN(Cc2cc(C)cc(CC(O)=O)c2)CCN1c1nc2ccc(...   \n",
       "2937447  CC[C@@H]1CN(Cc2cc(C)cc(CC(O)=O)c2)CCN1c1nc2ccc...   \n",
       "2937448  CC(C)[C@@H]1CN(Cc2cc(C)cc(CC(O)=O)c2)CCN1c1nc2...   \n",
       "2937449                COc1ccc(cc1)N(C)c1nc(C)nc2[nH]ccc12   \n",
       "2937450             COc1ccc(\\C=C/c2cc(OC)c(OC)c(OC)c2)cc1O   \n",
       "\n",
       "                           BindingDB Target Chain Sequence IC50 (nM)  \n",
       "0        PQITLWQRPLVTIKIGGQLKEALLDTGADDTVLEEMSLPGRWKPKM...       NaN  \n",
       "1        PQITLWQRPLVTIKIGGQLKEALLDTGADDTVLEEMSLPGRWKPKM...       NaN  \n",
       "2        PQITLWQRPLVTIKIGGQLKEALLDTGADDTVLEEMSLPGRWKPKM...       NaN  \n",
       "3        PQITLWQRPLVTIKIGGQLKEALLDTGADDTVLEEMSLPGRWKPKM...       NaN  \n",
       "4        PQITLWQRPLVTIKIGGQLKEALLDTGADDTVLEEMSLPGRWKPKM...       NaN  \n",
       "...                                                    ...       ...  \n",
       "2937446  MGETLGDSPVDPEHGAFADALPMSTSQEITMVDTEMPFWPTNFGIS...       NaN  \n",
       "2937447  MGETLGDSPVDPEHGAFADALPMSTSQEITMVDTEMPFWPTNFGIS...       NaN  \n",
       "2937448  MGETLGDSPVDPEHGAFADALPMSTSQEITMVDTEMPFWPTNFGIS...       NaN  \n",
       "2937449  CVSASPSTLARLVSRSAMPAGSSTAWNTAFSPMARCQVTKTIGGGD...      2600  \n",
       "2937450  CVSASPSTLARLVSRSAMPAGSSTAWNTAFSPMARCQVTKTIGGGD...      1000  \n",
       "\n",
       "[2937451 rows x 3 columns]"
      ]
     },
     "execution_count": 6,
     "metadata": {},
     "output_type": "execute_result"
    }
   ],
   "source": [
    "df"
   ]
  },
  {
   "cell_type": "code",
   "execution_count": 4,
   "id": "687c0500",
   "metadata": {},
   "outputs": [],
   "source": [
    "# FOR TESTING PURPOSES REDUCE DATASET SIZE\n",
    "df = df.sample(n=10_000, random_state=42)"
   ]
  },
  {
   "cell_type": "code",
   "execution_count": 2,
   "id": "df8e5110",
   "metadata": {},
   "outputs": [],
   "source": [
    "import numpy as np\n",
    "\n",
    "df = df.rename(columns={\"Ligand SMILES\": \"ligand\", \"BindingDB Target Chain Sequence\": \"protein\", \"IC50 (nM)\": \"ic50\"})\n",
    "ic50 = df['ic50'][~df['ic50'].isna()]\n",
    "less_than = ic50.str.contains(\"<\")\n",
    "greater_than = ic50.str.contains(\">\")\n",
    "ic50 = ic50[~(less_than | greater_than)]\n",
    "ic50n = ic50.astype(float)\n",
    "df = df.loc[ic50n.index]\n",
    "#  IC50 values are logarithmic in nature;\n",
    "# a compound with an IC50 of 10 nM is 10x more potent than one with 100 nM\n",
    "df['ic50'] = ic50n"
   ]
  },
  {
   "cell_type": "code",
   "execution_count": 3,
   "id": "26124b93",
   "metadata": {},
   "outputs": [],
   "source": [
    "df = df[df['ic50'] != 0.0]\n",
    "df.loc[:, 'ic50'] = np.log(df['ic50'])"
   ]
  },
  {
   "cell_type": "code",
   "execution_count": 4,
   "id": "0fb4314a",
   "metadata": {},
   "outputs": [
    {
     "name": "stdout",
     "output_type": "stream",
     "text": [
      "Ligands total: 1562952\n",
      "Ligands unique 819232\n",
      "Proteins total 1562952\n",
      "Proteins unique 6475\n"
     ]
    }
   ],
   "source": [
    "print(f\"Ligands total: {len(df['ligand'].values)}\")\n",
    "print(f\"Ligands unique {len(set(df['ligand'].values))}\")\n",
    "print(f\"Proteins total {len(df['protein'].values)}\")\n",
    "print(f\"Proteins unique {len(set(df['protein'].values))}\")"
   ]
  },
  {
   "cell_type": "code",
   "execution_count": 8,
   "id": "d9cd9921",
   "metadata": {},
   "outputs": [
    {
     "data": {
      "text/plain": [
       "tensor(10.5597, dtype=torch.float64)"
      ]
     },
     "execution_count": 8,
     "metadata": {},
     "output_type": "execute_result"
    }
   ],
   "source": [
    "# BASELINE DUMMY MODEL \n",
    "# that predicts mean of ic50\n",
    "import numpy as np\n",
    "import torch\n",
    "import torch.nn as nn\n",
    "mean_ic50 = np.mean(df['ic50'])\n",
    "y_pred_dummy = np.full_like(df['ic50'], mean_ic50)\n",
    "loss = nn.MSELoss()\n",
    "loss(torch.tensor(y_pred_dummy), torch.tensor(df['ic50'].values))"
   ]
  },
  {
   "cell_type": "code",
   "execution_count": 9,
   "id": "3df6f13f",
   "metadata": {},
   "outputs": [
    {
     "data": {
      "text/plain": [
       "Dataset({\n",
       "    features: ['ligand', 'protein', 'ic50'],\n",
       "    num_rows: 5339\n",
       "})"
      ]
     },
     "execution_count": 9,
     "metadata": {},
     "output_type": "execute_result"
    }
   ],
   "source": [
    "import datasets\n",
    "dataset = datasets.Dataset.from_pandas(df.reset_index(drop=True))\n",
    "dataset"
   ]
  },
  {
   "cell_type": "code",
   "execution_count": 10,
   "id": "50fdf4a2",
   "metadata": {},
   "outputs": [
    {
     "data": {
      "text/plain": [
       "pandas.core.series.Series"
      ]
     },
     "execution_count": 10,
     "metadata": {},
     "output_type": "execute_result"
    }
   ],
   "source": [
    "type(ic50n)"
   ]
  },
  {
   "cell_type": "code",
   "execution_count": 29,
   "id": "5a6e203b",
   "metadata": {},
   "outputs": [
    {
     "data": {
      "text/plain": [
       "<Axes: xlabel='ic50', ylabel='Count'>"
      ]
     },
     "execution_count": 29,
     "metadata": {},
     "output_type": "execute_result"
    },
    {
     "data": {
      "image/png": "[encoded data removed]",
      "text/plain": [
       "<Figure size 640x480 with 1 Axes>"
      ]
     },
     "metadata": {},
     "output_type": "display_data"
    }
   ],
   "source": [
    "import seaborn as sns\n",
    "import numpy as np\n",
    "\n",
    "# sns.histplot(df['ic50'], bins=100, color='blue')\n",
    "# sns.histplot(ic50n, bins=100, color='blue')\n"
   ]
  },
  {
   "cell_type": "code",
   "execution_count": 12,
   "id": "fbe73366",
   "metadata": {},
   "outputs": [],
   "source": [
    "# from transformers import AutoTokenizer, AutoModel\n",
    "\n",
    "# chem_tokenizer = AutoTokenizer.from_pretrained(\"seyonec/ChemBERTa-zinc-base-v1\")\n",
    "# chem_model = AutoModel.from_pretrained(\"seyonec/ChemBERTa-zinc-base-v1\")\n",
    "\n",
    "# esm_model_name = \"facebook/esm2_t33_650M_UR50D\"\n",
    "# esm_tokenizer = AutoTokenizer.from_pretrained(esm_model_name)\n",
    "# esm_model = AutoModel.from_pretrained(esm_model_name)\n",
    "# seyonec/ChemBERTa-zinc250k-v1"
   ]
  },
  {
   "cell_type": "code",
   "execution_count": 13,
   "id": "b178d5d2",
   "metadata": {},
   "outputs": [],
   "source": [
    "# print(torch.cuda.memory_reserved()/(1024*1024))\n",
    "# print(torch.cuda.memory_allocated()/(1024*1024))"
   ]
  },
  {
   "cell_type": "code",
   "execution_count": 14,
   "id": "bacbb6a6",
   "metadata": {},
   "outputs": [],
   "source": [
    "# esm_tokenizer.decode(esm_input['input_ids'][0])\n",
    "# esm_tokenizer.eos_token_id"
   ]
  },
  {
   "cell_type": "code",
   "execution_count": 15,
   "id": "a6bfb3b1",
   "metadata": {},
   "outputs": [],
   "source": [
    "# chem_tokenizer.decode(chem_inputs['input_ids'][0])"
   ]
  },
  {
   "cell_type": "code",
   "execution_count": 16,
   "id": "bc2ed9d0-cdd4-4984-822f-c0fe13d0372b",
   "metadata": {},
   "outputs": [],
   "source": [
    "import torch\n",
    "import torch.nn as nn\n",
    "from transformers import AutoModel, AutoTokenizer, DataCollatorWithPadding\n",
    "import torch.nn.functional as F\n",
    "\n",
    "    \n",
    "class BindingAffinityModel(nn.Module):\n",
    "    def __init__(self, esm_model_name, chem_model_name, combined_embedding_dim=512):\n",
    "        super().__init__()\n",
    "        # self.device = torch.device(\"cuda\" if torch.cuda.is_available() else \"cpu\")\n",
    "\n",
    "        # Load pretrained ESM2 model for proteins\n",
    "        self.esm_model = AutoModel.from_pretrained(esm_model_name)\n",
    "        self.esm_tokenizer = AutoTokenizer.from_pretrained(esm_model_name)\n",
    "        self.esm_model.eval()\n",
    "        \n",
    "        # Load pretrained ChemLLM for SMILES (ligands)\n",
    "        self.chem_model = AutoModel.from_pretrained(chem_model_name)\n",
    "        self.chem_tokenizer = AutoTokenizer.from_pretrained(chem_model_name)\n",
    "        self.chem_model.eval()\n",
    "\n",
    "        # Disable gradient computation for both base models\n",
    "        for param in self.esm_model.parameters():\n",
    "            param.requires_grad = False\n",
    "\n",
    "        for param in self.chem_model.parameters():\n",
    "            param.requires_grad = False\n",
    "        \n",
    "        # Protein and SMILES embedding dimensions\n",
    "        self.protein_embedding_dim = self.esm_model.config.hidden_size\n",
    "        self.chem_embedding_dim = self.chem_model.config.hidden_size\n",
    "        \n",
    "        # Projection layers to ensure same dimensionality\n",
    "        # self.protein_projector = nn.Linear(self.protein_embedding_dim, combined_embedding_dim)\n",
    "        # self.chem_projector = nn.Linear(self.chem_embedding_dim, combined_embedding_dim)\n",
    "        \n",
    "        # Combine embeddings\n",
    "        # self.combined_embedding_dim = combined_embedding_dim * 2\n",
    "        self.fc_combine = nn.Linear(self.protein_embedding_dim + self.chem_embedding_dim, combined_embedding_dim)\n",
    "        # self.fc_additional = nn.Linear(combined_embedding_dim, combined_embedding_dim)\n",
    "        self.fc_out = nn.Linear(combined_embedding_dim, 1)  # Predict IC50 as a single value\n",
    "        \n",
    "    def forward(\n",
    "            self,\n",
    "            ligand_input_ids,\n",
    "            ligand_attention_mask,\n",
    "            protein_input_ids,\n",
    "            protein_attention_mask\n",
    "        ):\n",
    "        # Protein embedding\n",
    "        # protein_inputs = self.esm_tokenizer(protein_sequence, return_tensors=\"pt\")\n",
    "        protein_inputs = {\n",
    "            \"input_ids\": protein_input_ids,\n",
    "            \"attention_mask\": protein_attention_mask\n",
    "        }\n",
    "        # perform in FP16 for lower memory usage (matmuls)\n",
    "        with torch.cuda.amp.autocast():\n",
    "            with torch.no_grad():\n",
    "                protein_outputs = self.esm_model(**protein_inputs)\n",
    "        special_tokens_mask = (protein_inputs['input_ids'] == self.esm_tokenizer.cls_token_id)\\\n",
    "        | (protein_inputs['input_ids'] == self.esm_tokenizer.eos_token_id)\\\n",
    "        | (protein_inputs['input_ids'] == self.esm_tokenizer.pad_token_id)\n",
    "        valid_tokens_mask = ~special_tokens_mask\n",
    "        protein_embedding = (protein_outputs.last_hidden_state * valid_tokens_mask.unsqueeze(dim=-1)).mean(dim=1)\n",
    "        # protein_embedding = self.protein_projector(protein_embedding)  # Project to combined_embedding_dim\n",
    "        \n",
    "        # SMILES embedding\n",
    "        # chem_inputs = self.chem_tokenizer(ligand_smiles, return_tensors=\"pt\", add_special_tokens=True)\n",
    "        chem_inputs = {\n",
    "            \"input_ids\": ligand_input_ids,\n",
    "            \"attention_mask\": ligand_attention_mask\n",
    "        }\n",
    "        special_tokens_mask = (chem_inputs['input_ids'] == self.chem_tokenizer.bos_token_id)\\\n",
    "        | (chem_inputs['input_ids'] == self.chem_tokenizer.eos_token_id)\\\n",
    "        | (chem_inputs['input_ids'] == self.chem_tokenizer.pad_token_id)\n",
    "        valid_tokens_mask = ~special_tokens_mask\n",
    "\n",
    "        with torch.cuda.amp.autocast():\n",
    "            with torch.no_grad():\n",
    "                chem_outputs = self.chem_model(**chem_inputs)\n",
    "        chem_embedding = (chem_outputs.last_hidden_state * valid_tokens_mask.unsqueeze(dim=-1)).mean(dim=1)\n",
    "        # chem_embedding = self.chem_projector(chem_embedding)  # Project to combined_embedding_dim\n",
    "        \n",
    "        # Combine embeddings (already projected)\n",
    "        x = torch.cat([protein_embedding, chem_embedding], dim=1)\n",
    "        x = F.relu(self.fc_combine(x))\n",
    "        # x = F.relu(self.fc_additional(x))\n",
    "        # Output layer\n",
    "        binding_affinity = self.fc_out(x)\n",
    "        return binding_affinity\n",
    "\n",
    "class BindingAffinityModelWithAttention(nn.Module):\n",
    "    def __init__(self, esm_model_name, chem_model_name, combined_embedding_dim=512, attention_dim=256):\n",
    "        super().__init__()\n",
    "        # self.device = torch.device(\"cuda\" if torch.cuda.is_available() else \"cpu\")\n",
    "\n",
    "        # Load pretrained ESM2 model for proteins\n",
    "        self.esm_model = AutoModel.from_pretrained(esm_model_name)\n",
    "        self.esm_tokenizer = AutoTokenizer.from_pretrained(esm_model_name)\n",
    "        self.esm_model.eval()\n",
    "        \n",
    "        # Load pretrained ChemLLM for SMILES (ligands)\n",
    "        self.chem_model = AutoModel.from_pretrained(chem_model_name)\n",
    "        self.chem_tokenizer = AutoTokenizer.from_pretrained(chem_model_name)\n",
    "        self.chem_model.eval()\n",
    "\n",
    "        # Disable gradient computation for both base models\n",
    "        for param in self.esm_model.parameters():\n",
    "            param.requires_grad = False\n",
    "\n",
    "        for param in self.chem_model.parameters():\n",
    "            param.requires_grad = False\n",
    "        \n",
    "        # Protein and SMILES embedding dimensions\n",
    "        self.protein_embedding_dim = self.esm_model.config.hidden_size\n",
    "        self.chem_embedding_dim = self.chem_model.config.hidden_size\n",
    "        \n",
    "        # Linear layers to process individual embeddings\n",
    "        self.protein_linear = nn.Linear(self.protein_embedding_dim, attention_dim)\n",
    "        self.ligand_linear = nn.Linear(self.chem_embedding_dim, attention_dim)\n",
    "        \n",
    "        # Attention layer\n",
    "        self.attention = nn.Linear(attention_dim, 1)\n",
    "        \n",
    "        # Combined processing layers\n",
    "        self.combined_linear = nn.Linear(self.protein_embedding_dim + self.chem_embedding_dim, combined_embedding_dim)\n",
    "        self.output_layer = nn.Linear(combined_embedding_dim, 1)\n",
    "        \n",
    "    def forward(\n",
    "            self,\n",
    "            ligand_input_ids,\n",
    "            ligand_attention_mask,\n",
    "            protein_input_ids,\n",
    "            protein_attention_mask\n",
    "        ):\n",
    "        # Protein embedding\n",
    "        # protein_inputs = self.esm_tokenizer(protein_sequence, return_tensors=\"pt\")\n",
    "        protein_inputs = {\n",
    "            \"input_ids\": protein_input_ids,\n",
    "            \"attention_mask\": protein_attention_mask\n",
    "        }\n",
    "        # perform in FP16 for lower memory usage (matmuls)\n",
    "        with torch.cuda.amp.autocast():\n",
    "            with torch.no_grad():\n",
    "                protein_outputs = self.esm_model(**protein_inputs)\n",
    "        special_tokens_mask = (protein_inputs['input_ids'] == self.esm_tokenizer.cls_token_id)\\\n",
    "        | (protein_inputs['input_ids'] == self.esm_tokenizer.eos_token_id)\\\n",
    "        | (protein_inputs['input_ids'] == self.esm_tokenizer.pad_token_id)\n",
    "        valid_tokens_mask = ~special_tokens_mask\n",
    "        protein_embedding = (protein_outputs.last_hidden_state * valid_tokens_mask.unsqueeze(dim=-1)).mean(dim=1)\n",
    "        # protein_embedding = self.protein_projector(protein_embedding)  # Project to combined_embedding_dim\n",
    "        \n",
    "        # SMILES embedding\n",
    "        # chem_inputs = self.chem_tokenizer(ligand_smiles, return_tensors=\"pt\", add_special_tokens=True)\n",
    "        chem_inputs = {\n",
    "            \"input_ids\": ligand_input_ids,\n",
    "            \"attention_mask\": ligand_attention_mask\n",
    "        }\n",
    "        special_tokens_mask = (chem_inputs['input_ids'] == self.chem_tokenizer.bos_token_id)\\\n",
    "        | (chem_inputs['input_ids'] == self.chem_tokenizer.eos_token_id)\\\n",
    "        | (chem_inputs['input_ids'] == self.chem_tokenizer.pad_token_id)\n",
    "        valid_tokens_mask = ~special_tokens_mask\n",
    "\n",
    "        with torch.cuda.amp.autocast():\n",
    "            with torch.no_grad():\n",
    "                chem_outputs = self.chem_model(**chem_inputs)\n",
    "        chem_embedding = (chem_outputs.last_hidden_state * valid_tokens_mask.unsqueeze(dim=-1)).mean(dim=1)\n",
    "        # chem_embedding = self.chem_projector(chem_embedding)  # Project to combined_embedding_dim\n",
    "        \n",
    "        # transform into common dimension\n",
    "        protein_attention = self.protein_linear(protein_embedding)\n",
    "        ligand_attention = self.ligand_linear(chem_embedding)\n",
    "\n",
    "        # compute attention used for both protein and ligand embeddings\n",
    "        combined_attention = F.relu(protein_attention + ligand_attention)\n",
    "        attention_scores = F.softmax(self.attention(combined_attention), dim=0)\n",
    "\n",
    "        # apply attention\n",
    "        attended_protein = protein_embedding * attention_scores  # Weighted protein embedding\n",
    "        attended_ligand = chem_embedding * attention_scores\n",
    "\n",
    "        # concatenate embeddings\n",
    "        combined = torch.cat([attended_protein, attended_ligand], dim=1)\n",
    "\n",
    "        # pass through hidden layer\n",
    "        combined_features = F.relu(self.combined_linear(combined))\n",
    "\n",
    "        # predict ic50 \n",
    "        ic50_prediction = self.output_layer(combined_features)\n",
    "\n",
    "        return ic50_prediction\n",
    "\n",
    "class BindingAffinityModelWithCrossAttention(nn.Module):\n",
    "    def __init__(self, esm_model_name, chem_model_name, combined_embedding_dim=512, attention_dim=256):\n",
    "        super().__init__()\n",
    "        # self.device = torch.device(\"cuda\" if torch.cuda.is_available() else \"cpu\")\n",
    "\n",
    "        # Load pretrained ESM2 model for proteins\n",
    "        self.esm_model = AutoModel.from_pretrained(esm_model_name)\n",
    "        self.esm_tokenizer = AutoTokenizer.from_pretrained(esm_model_name)\n",
    "        self.esm_model.eval()\n",
    "        \n",
    "        # Load pretrained ChemLLM for SMILES (ligands)\n",
    "        self.chem_model = AutoModel.from_pretrained(chem_model_name)\n",
    "        self.chem_tokenizer = AutoTokenizer.from_pretrained(chem_model_name)\n",
    "        self.chem_model.eval()\n",
    "\n",
    "        # Disable gradient computation for both base models\n",
    "        for param in self.esm_model.parameters():\n",
    "            param.requires_grad = False\n",
    "\n",
    "        for param in self.chem_model.parameters():\n",
    "            param.requires_grad = False\n",
    "        \n",
    "        # Protein and SMILES embedding dimensions\n",
    "        self.protein_embedding_dim = self.esm_model.config.hidden_size\n",
    "        self.chem_embedding_dim = self.chem_model.config.hidden_size\n",
    "        \n",
    "        # Protein queries ligand\n",
    "        self.protein_query = nn.Linear(self.protein_embedding_dim, attention_dim)\n",
    "        self.ligand_key = nn.Linear(self.chem_embedding_dim, attention_dim)\n",
    "        self.ligand_value = nn.Linear(self.chem_embedding_dim, attention_dim)\n",
    "\n",
    "        # Ligand queries protein\n",
    "        self.ligand_query = nn.Linear(self.chem_embedding_dim, attention_dim)\n",
    "        self.protein_key = nn.Linear(self.protein_embedding_dim, attention_dim)\n",
    "        self.protein_value = nn.Linear(self.protein_embedding_dim, attention_dim)\n",
    "\n",
    "        self.combined_linear = nn.Linear(self.protein_embedding_dim + self.chem_embedding_dim + 2 * attention_dim, combined_embedding_dim)\n",
    "        self.output_layer = nn.Linear(combined_embedding_dim, 1)\n",
    "\n",
    "    def cross_attention(self, key, query, value):\n",
    "        attention_scores = torch.matmul(query, key.transpose(-1, -2))\n",
    "        attention_scores = attention_scores / torch.sqrt(torch.tensor(key.size(-1), dtype=torch.float32))\n",
    "        attention_weights = torch.softmax(attention_scores, dim=-1)\n",
    "        return torch.matmul(attention_weights, value)\n",
    "        \n",
    "    def forward(\n",
    "            self,\n",
    "            ligand_input_ids,\n",
    "            ligand_attention_mask,\n",
    "            protein_input_ids,\n",
    "            protein_attention_mask\n",
    "        ):\n",
    "        # Protein embedding\n",
    "        # protein_inputs = self.esm_tokenizer(protein_sequence, return_tensors=\"pt\")\n",
    "        protein_inputs = {\n",
    "            \"input_ids\": protein_input_ids,\n",
    "            \"attention_mask\": protein_attention_mask\n",
    "        }\n",
    "        # perform in FP16 for lower memory usage (matmuls)\n",
    "        with torch.cuda.amp.autocast():\n",
    "            with torch.no_grad():\n",
    "                protein_outputs = self.esm_model(**protein_inputs)\n",
    "        special_tokens_mask = (protein_inputs['input_ids'] == self.esm_tokenizer.cls_token_id)\\\n",
    "        | (protein_inputs['input_ids'] == self.esm_tokenizer.eos_token_id)\\\n",
    "        | (protein_inputs['input_ids'] == self.esm_tokenizer.pad_token_id)\n",
    "        valid_tokens_mask = ~special_tokens_mask\n",
    "        protein_embedding = (protein_outputs.last_hidden_state * valid_tokens_mask.unsqueeze(dim=-1)).mean(dim=1)\n",
    "        # protein_embedding = self.protein_projector(protein_embedding)  # Project to combined_embedding_dim\n",
    "        \n",
    "        # SMILES embedding\n",
    "        # chem_inputs = self.chem_tokenizer(ligand_smiles, return_tensors=\"pt\", add_special_tokens=True)\n",
    "        chem_inputs = {\n",
    "            \"input_ids\": ligand_input_ids,\n",
    "            \"attention_mask\": ligand_attention_mask\n",
    "        }\n",
    "        special_tokens_mask = (chem_inputs['input_ids'] == self.chem_tokenizer.bos_token_id)\\\n",
    "        | (chem_inputs['input_ids'] == self.chem_tokenizer.eos_token_id)\\\n",
    "        | (chem_inputs['input_ids'] == self.chem_tokenizer.pad_token_id)\n",
    "        valid_tokens_mask = ~special_tokens_mask\n",
    "\n",
    "        with torch.cuda.amp.autocast():\n",
    "            with torch.no_grad():\n",
    "                chem_outputs = self.chem_model(**chem_inputs)\n",
    "        chem_embedding = (chem_outputs.last_hidden_state * valid_tokens_mask.unsqueeze(dim=-1)).mean(dim=1)\n",
    "        # chem_embedding = self.chem_projector(chem_embedding)  # Project to combined_embedding_dim\n",
    "        \n",
    "        # cross attention protein queries ligand\n",
    "        prot_Q = self.protein_query(protein_embedding)\n",
    "        ligand_K = self.ligand_key(chem_embedding)\n",
    "        ligand_V = self.ligand_value(chem_embedding)\n",
    "        attended_ligand = self.cross_attention(prot_Q, ligand_K, ligand_V)\n",
    "\n",
    "        # cross attention ligand queries protein\n",
    "        ligand_Q = self.ligand_query(chem_embedding)\n",
    "        protein_K = self.protein_key(protein_embedding)\n",
    "        protein_V = self.protein_value(protein_embedding)\n",
    "        attended_protein = self.cross_attention(ligand_Q, protein_K, protein_V)\n",
    "\n",
    "        # Combine embeddings\n",
    "        combined = torch.cat([protein_embedding, chem_embedding, attended_ligand, attended_protein], dim=1)\n",
    "        combined_features = torch.relu(self.combined_linear(combined))\n",
    "        ic50_prediction = self.output_layer(combined_features)\n",
    "        return ic50_prediction\n",
    "\n",
    "# MultiHeadCrossAttention  \n",
    "class CrossAttentionLayer(nn.Module):\n",
    "    def __init__(self, embed_dim=512, num_heads=8, dropout=0.1, ffn_hidden_dim=2048):\n",
    "        super(CrossAttentionLayer, self).__init__()\n",
    "        self.protein_to_ligand_attention = nn.MultiheadAttention(embed_dim, num_heads, dropout=dropout, batch_first=True)\n",
    "        self.ligand_to_protein_attention = nn.MultiheadAttention(embed_dim, num_heads, dropout=dropout, batch_first=True)\n",
    "        ffn_hidden_dim = embed_dim * 3\n",
    "        self.ffn_protein = nn.Sequential(\n",
    "            nn.Linear(embed_dim, ffn_hidden_dim),\n",
    "            nn.ReLU(),  # Non-linear activation\n",
    "            nn.Linear(ffn_hidden_dim, embed_dim),\n",
    "        )\n",
    "        self.ffn_ligand = nn.Sequential(\n",
    "            nn.Linear(embed_dim, ffn_hidden_dim),\n",
    "            nn.ReLU(),  # Non-linear activation\n",
    "            nn.Linear(ffn_hidden_dim, embed_dim),\n",
    "        )\n",
    "        self.protein_norm = nn.LayerNorm(embed_dim)\n",
    "        self.ligand_norm = nn.LayerNorm(embed_dim)\n",
    "        self.ffn_protein_norm = nn.LayerNorm(embed_dim)\n",
    "        self.ffn_ligand_norm = nn.LayerNorm(embed_dim)\n",
    "        self.dropout = nn.Dropout(dropout)\n",
    "\n",
    "    def forward(self, protein_embedding, ligand_embedding, key_pad_mask_prot, key_pad_mask_ligand):\n",
    "        # Protein attending to ligand\n",
    "        attended_protein, _ = self.protein_to_ligand_attention(\n",
    "            query=protein_embedding, \n",
    "            key=ligand_embedding,\n",
    "            value=ligand_embedding,\n",
    "            key_padding_mask=key_pad_mask_ligand\n",
    "        )\n",
    "        attended_protein = self.protein_norm(protein_embedding + attended_protein)  # Residual connection\n",
    "        x_prot = self.ffn_protein(attended_protein)\n",
    "        x_prot = self.ffn_protein_norm(attended_protein + self.dropout(x_prot))\n",
    "\n",
    "        # Ligand attending to protein\n",
    "        attended_ligand, _ = self.ligand_to_protein_attention(\n",
    "            query=ligand_embedding, \n",
    "            key=protein_embedding, \n",
    "            value=protein_embedding,\n",
    "            key_padding_mask=key_pad_mask_prot\n",
    "        )\n",
    "        attended_ligand = self.ligand_norm(ligand_embedding + attended_ligand)  # Residual connection\n",
    "        x_ligand = self.ffn_ligand(attended_ligand)\n",
    "        x_ligand = self.ffn_ligand_norm(attended_ligand + self.dropout(x_ligand))\n",
    "        return x_prot, x_ligand\n",
    "\n",
    "class BindingAffinityModelWithMultiHeadCrossAttention(nn.Module):\n",
    "    def __init__(self, esm_model_name, chem_model_name, num_layers=3, hidden_dim=1024):\n",
    "        super().__init__()\n",
    "        # self.device = torch.device(\"cuda\" if torch.cuda.is_available() else \"cpu\")\n",
    "\n",
    "        # Load pretrained ESM2 model for proteins\n",
    "        self.esm_model = AutoModel.from_pretrained(esm_model_name)\n",
    "        self.esm_tokenizer = AutoTokenizer.from_pretrained(esm_model_name)\n",
    "        self.esm_model.eval()\n",
    "        \n",
    "        # Load pretrained ChemLLM for SMILES (ligands)\n",
    "        self.ligand_model = AutoModel.from_pretrained(chem_model_name)\n",
    "        self.ligand_tokenizer = AutoTokenizer.from_pretrained(chem_model_name)\n",
    "        self.ligand_model.eval()\n",
    "\n",
    "        # Disable gradient computation for both base models\n",
    "        for param in self.esm_model.parameters():\n",
    "            param.requires_grad = False\n",
    "\n",
    "        for param in self.ligand_model.parameters():\n",
    "            param.requires_grad = False\n",
    "        \n",
    "        # Protein and SMILES embedding dimensions\n",
    "        self.protein_embedding_dim = self.esm_model.config.hidden_size\n",
    "        self.ligand_embedding_dim = self.ligand_model.config.hidden_size\n",
    "\n",
    "        self.project_to_common = nn.Linear(self.protein_embedding_dim, self.ligand_embedding_dim)\n",
    "\n",
    "        self.layers = nn.ModuleList([\n",
    "            CrossAttentionLayer(embed_dim=self.ligand_embedding_dim) for _ in range(num_layers)\n",
    "        ])\n",
    "\n",
    "        self.ffn_ic50 = nn.Sequential(\n",
    "            nn.Linear(2 * self.ligand_embedding_dim, hidden_dim),\n",
    "            nn.ReLU(),\n",
    "            nn.Linear(hidden_dim, 1)\n",
    "        )\n",
    "\n",
    "        \n",
    "    def forward(\n",
    "            self,\n",
    "            ligand_input_ids,\n",
    "            ligand_attention_mask,\n",
    "            protein_input_ids,\n",
    "            protein_attention_mask\n",
    "        ):\n",
    "        # Protein embedding\n",
    "        # protein_inputs = self.esm_tokenizer(protein_sequence, return_tensors=\"pt\")\n",
    "        protein_inputs = {\n",
    "            \"input_ids\": protein_input_ids,\n",
    "            \"attention_mask\": protein_attention_mask\n",
    "        }\n",
    "        # perform in FP16 for lower memory usage (matmuls)\n",
    "        with torch.cuda.amp.autocast():\n",
    "            with torch.no_grad():\n",
    "                protein_outputs = self.esm_model(**protein_inputs)\n",
    "        special_tokens_mask_prot = (protein_inputs['input_ids'] == self.esm_tokenizer.cls_token_id)\\\n",
    "        | (protein_inputs['input_ids'] == self.esm_tokenizer.eos_token_id)\\\n",
    "        | (protein_inputs['input_ids'] == self.esm_tokenizer.pad_token_id)\n",
    "        protein_embedding = protein_outputs.last_hidden_state\n",
    "        \n",
    "        # SMILES embedding\n",
    "        ligand_inputs = {\n",
    "            \"input_ids\": ligand_input_ids,\n",
    "            \"attention_mask\": ligand_attention_mask\n",
    "        }\n",
    "        special_tokens_mask_ligand = (ligand_inputs['input_ids'] == self.ligand_tokenizer.bos_token_id)\\\n",
    "        | (ligand_inputs['input_ids'] == self.ligand_tokenizer.eos_token_id)\\\n",
    "        | (ligand_inputs['input_ids'] == self.ligand_tokenizer.pad_token_id)\n",
    "\n",
    "        with torch.cuda.amp.autocast():\n",
    "            with torch.no_grad():\n",
    "                ligand_outputs = self.ligand_model(**ligand_inputs)\n",
    "        ligand_embedding = ligand_outputs.last_hidden_state\n",
    "\n",
    "        # project embeddings to same dimension\n",
    "        protein_embedding = self.project_to_common(protein_embedding)\n",
    "        \n",
    "        for layer in self.layers:\n",
    "            protein_embedding, ligand_embedding = layer(protein_embedding, ligand_embedding, special_tokens_mask_prot, special_tokens_mask_ligand)\n",
    "\n",
    "        # Perform mean pooling\n",
    "        ligand_embedding = (ligand_embedding * ~special_tokens_mask_ligand.unsqueeze(dim=-1)).mean(dim=1)\n",
    "        protein_embedding = (protein_embedding * ~special_tokens_mask_prot.unsqueeze(dim=-1)).mean(dim=1)\n",
    "        # Combine embeddings\n",
    "        combined = torch.cat([protein_embedding, ligand_embedding], dim=1)\n",
    "        ic50_prediction = self.ffn_ic50(combined)\n",
    "        return ic50_prediction\n",
    "\n",
    "\n",
    "esm_model_name = \"facebook/esm2_t33_650M_UR50D\"  # Replace with the correct ESM2 model name\n",
    "chem_model_name = \"seyonec/ChemBERTa-zinc-base-v1\" # Replace with the correct ChemLLM model name\n"
   ]
  },
  {
   "cell_type": "code",
   "execution_count": 17,
   "id": "0398f180",
   "metadata": {},
   "outputs": [
    {
     "name": "stdout",
     "output_type": "stream",
     "text": [
      "Maximum ligand length 698\n",
      "Minimum ligand length 8\n",
      "Mean ligand length 60.49\n",
      "Median ligand length 57.0\n",
      "Maximum protein length 7132\n",
      "Minimum protein length 9\n",
      "Mean protein length 733.63\n",
      "Median protein length 545.0\n"
     ]
    }
   ],
   "source": [
    "print(f\"Maximum ligand length {df['ligand'].str.len().max()}\")\n",
    "print(f\"Minimum ligand length {df['ligand'].str.len().min()}\")\n",
    "print(f\"Mean ligand length {df['ligand'].str.len().mean():.2f}\")\n",
    "print(f\"Median ligand length {df['ligand'].str.len().median()}\")\n",
    "print(f\"Maximum protein length {df['protein'].str.len().max()}\")\n",
    "print(f\"Minimum protein length {df['protein'].str.len().min()}\")\n",
    "print(f\"Mean protein length {df['protein'].str.len().mean():.2f}\")\n",
    "print(f\"Median protein length {df['protein'].str.len().median()}\")"
   ]
  },
  {
   "cell_type": "code",
   "execution_count": 18,
   "id": "366313b0",
   "metadata": {},
   "outputs": [
    {
     "data": {
      "application/vnd.jupyter.widget-view+json": {
       "model_id": "c9daafde8ba845c39b92b4ba58a7dc40",
       "version_major": 2,
       "version_minor": 0
      },
      "text/plain": [
       "Filter:   0%|          | 0/5339 [00:00<?, ? examples/s]"
      ]
     },
     "metadata": {},
     "output_type": "display_data"
    },
    {
     "data": {
      "application/vnd.jupyter.widget-view+json": {
       "model_id": "f4668d1ca3d546f9bc05502516777590",
       "version_major": 2,
       "version_minor": 0
      },
      "text/plain": [
       "Filter:   0%|          | 0/4205 [00:00<?, ? examples/s]"
      ]
     },
     "metadata": {},
     "output_type": "display_data"
    },
    {
     "data": {
      "text/plain": [
       "DatasetDict({\n",
       "    train: Dataset({\n",
       "        features: ['ligand', 'protein', 'ic50'],\n",
       "        num_rows: 3360\n",
       "    })\n",
       "    test: Dataset({\n",
       "        features: ['ligand', 'protein', 'ic50'],\n",
       "        num_rows: 420\n",
       "    })\n",
       "    validation: Dataset({\n",
       "        features: ['ligand', 'protein', 'ic50'],\n",
       "        num_rows: 421\n",
       "    })\n",
       "})"
      ]
     },
     "execution_count": 18,
     "metadata": {},
     "output_type": "execute_result"
    }
   ],
   "source": [
    "# Data split \n",
    "from datasets import DatasetDict\n",
    "\n",
    "# Filter protein sequences longer than 1024 and ligands longer than 512\n",
    "dataset = dataset.filter(lambda x: len(x[\"protein\"]) < 1024)\n",
    "dataset = dataset.filter(lambda x: len(x[\"ligand\"]) < 512)\n",
    "\n",
    "dataset_train_test = dataset.train_test_split(test_size=0.2)\n",
    "dataset_test_val = dataset_train_test[\"test\"].train_test_split(test_size=0.5)\n",
    "dataset_dict = {\n",
    "    \"train\": dataset_train_test['train'],\n",
    "    \"test\": dataset_test_val[\"train\"],\n",
    "    \"validation\": dataset_test_val['test']\n",
    "}\n",
    "dataset = DatasetDict(dataset_dict)\n",
    "dataset\n"
   ]
  },
  {
   "cell_type": "code",
   "execution_count": 19,
   "id": "0f35a59c",
   "metadata": {},
   "outputs": [
    {
     "name": "stdout",
     "output_type": "stream",
     "text": [
      "chem tokenizer is fast: True\n",
      "esm tokenizer is fast: False\n"
     ]
    },
    {
     "data": {
      "application/vnd.jupyter.widget-view+json": {
       "model_id": "5cb1ddd4eff5415f8ef585c1c42958d6",
       "version_major": 2,
       "version_minor": 0
      },
      "text/plain": [
       "Map:   0%|          | 0/3360 [00:00<?, ? examples/s]"
      ]
     },
     "metadata": {},
     "output_type": "display_data"
    },
    {
     "name": "stderr",
     "output_type": "stream",
     "text": [
      "Asking to truncate to max_length but no maximum length is provided and the model has no predefined maximum length. Default to no truncation.\n"
     ]
    },
    {
     "data": {
      "application/vnd.jupyter.widget-view+json": {
       "model_id": "f18b798245164a399b1a4aa348dcafee",
       "version_major": 2,
       "version_minor": 0
      },
      "text/plain": [
       "Map:   0%|          | 0/420 [00:00<?, ? examples/s]"
      ]
     },
     "metadata": {},
     "output_type": "display_data"
    },
    {
     "data": {
      "application/vnd.jupyter.widget-view+json": {
       "model_id": "d7472c5140b84133972fa5ca705801eb",
       "version_major": 2,
       "version_minor": 0
      },
      "text/plain": [
       "Map:   0%|          | 0/421 [00:00<?, ? examples/s]"
      ]
     },
     "metadata": {},
     "output_type": "display_data"
    },
    {
     "data": {
      "application/vnd.jupyter.widget-view+json": {
       "model_id": "3deaaec27bbf484f807ffe1467b8d8bd",
       "version_major": 2,
       "version_minor": 0
      },
      "text/plain": [
       "Map:   0%|          | 0/3360 [00:00<?, ? examples/s]"
      ]
     },
     "metadata": {},
     "output_type": "display_data"
    },
    {
     "data": {
      "application/vnd.jupyter.widget-view+json": {
       "model_id": "e37171e802f54797bf11da55a7297131",
       "version_major": 2,
       "version_minor": 0
      },
      "text/plain": [
       "Map:   0%|          | 0/420 [00:00<?, ? examples/s]"
      ]
     },
     "metadata": {},
     "output_type": "display_data"
    },
    {
     "data": {
      "application/vnd.jupyter.widget-view+json": {
       "model_id": "54088f3b25424d8993b552078a74110b",
       "version_major": 2,
       "version_minor": 0
      },
      "text/plain": [
       "Map:   0%|          | 0/421 [00:00<?, ? examples/s]"
      ]
     },
     "metadata": {},
     "output_type": "display_data"
    },
    {
     "data": {
      "text/plain": [
       "DatasetDict({\n",
       "    train: Dataset({\n",
       "        features: ['ligand', 'protein', 'ic50', 'protein_input_ids', 'protein_attention_mask', 'ligand_input_ids', 'ligand_attention_mask'],\n",
       "        num_rows: 3360\n",
       "    })\n",
       "    test: Dataset({\n",
       "        features: ['ligand', 'protein', 'ic50', 'protein_input_ids', 'protein_attention_mask', 'ligand_input_ids', 'ligand_attention_mask'],\n",
       "        num_rows: 420\n",
       "    })\n",
       "    validation: Dataset({\n",
       "        features: ['ligand', 'protein', 'ic50', 'protein_input_ids', 'protein_attention_mask', 'ligand_input_ids', 'ligand_attention_mask'],\n",
       "        num_rows: 421\n",
       "    })\n",
       "})"
      ]
     },
     "execution_count": 19,
     "metadata": {},
     "output_type": "execute_result"
    }
   ],
   "source": [
    "# Tokenization of ligands and protein sequences\n",
    "chem_tokenizer = AutoTokenizer.from_pretrained(chem_model_name)\n",
    "esm_tokenizer = AutoTokenizer.from_pretrained(esm_model_name)\n",
    "print(f\"chem tokenizer is fast: {chem_tokenizer.is_fast}\")\n",
    "print(f\"esm tokenizer is fast: {esm_tokenizer.is_fast}\")\n",
    "\n",
    "def tokenize_ligands(examples):\n",
    "    toks = chem_tokenizer(examples[\"ligand\"], truncation=True)\n",
    "    return {\n",
    "        \"ligand_input_ids\": toks[\"input_ids\"],\n",
    "        \"ligand_attention_mask\": toks[\"attention_mask\"]\n",
    "    }\n",
    "\n",
    "def tokenize_proteins(examples):\n",
    "    toks =  esm_tokenizer(examples[\"protein\"], truncation=True)\n",
    "    return {\n",
    "        \"protein_input_ids\": toks[\"input_ids\"],\n",
    "        \"protein_attention_mask\": toks[\"attention_mask\"]\n",
    "    }\n",
    "\n",
    "tokenized_dataset = dataset.map(tokenize_proteins, batched=True)\n",
    "tokenized_dataset = tokenized_dataset.map(tokenize_ligands, batched=True)\n",
    "tokenized_dataset"
   ]
  },
  {
   "cell_type": "code",
   "execution_count": 20,
   "id": "63287520",
   "metadata": {},
   "outputs": [],
   "source": [
    "# Custom data collator\n",
    "from transformers import DataCollatorWithPadding\n",
    "\n",
    "chem_collator = DataCollatorWithPadding(tokenizer=chem_tokenizer)\n",
    "esm_collator = DataCollatorWithPadding(tokenizer=esm_tokenizer)\n",
    "\n",
    "class CustomDataCollator:\n",
    "    def __init__(self, chem_collator, esm_collator):\n",
    "            self.chem_collator = chem_collator\n",
    "            self.esm_collator = esm_collator\n",
    "\n",
    "    def __call__(self, batch):\n",
    "        batch_ligand = [{\"input_ids\": b[\"ligand_input_ids\"], \"attention_mask\": b[\"ligand_attention_mask\"]} for b in batch]\n",
    "        batch_protein = [{\"input_ids\": b[\"protein_input_ids\"], \"attention_mask\": b[\"protein_attention_mask\"]} for b in batch]\n",
    "\n",
    "        collated_chem = self.chem_collator(batch_ligand)\n",
    "        collated_esm = self.esm_collator(batch_protein)\n",
    "\n",
    "        return {\n",
    "            \"ligand_input_ids\": collated_chem[\"input_ids\"],\n",
    "            \"ligand_attention_mask\": collated_chem[\"attention_mask\"],\n",
    "            \"protein_input_ids\": collated_esm[\"input_ids\"],\n",
    "            \"protein_attention_mask\": collated_esm[\"attention_mask\"],\n",
    "            \"ic50\": torch.tensor([x['ic50'] for x in batch])\n",
    "        }"
   ]
  },
  {
   "cell_type": "code",
   "execution_count": 21,
   "id": "43bd8041",
   "metadata": {},
   "outputs": [],
   "source": [
    "from torch.utils.data import DataLoader\n",
    "\n",
    "bs = 32\n",
    "collator = CustomDataCollator(chem_collator=chem_collator, esm_collator=esm_collator)\n",
    "train_dataloader = DataLoader(tokenized_dataset[\"train\"], batch_size=bs, collate_fn=collator)\n",
    "test_dataloader = DataLoader(tokenized_dataset[\"test\"], batch_size=bs, collate_fn=collator)\n",
    "val_dataloader = DataLoader(tokenized_dataset[\"validation\"], batch_size=bs, collate_fn=collator)"
   ]
  },
  {
   "cell_type": "code",
   "execution_count": 22,
   "id": "cbe18464",
   "metadata": {},
   "outputs": [],
   "source": [
    "# # TESTING MEMORY WITH SINGLE BATCH\n",
    "# batch = next(iter(train_dataloader))\n",
    "# batch[\"ligand_input_ids\"]\n",
    "# chem_inputs = {\n",
    "#             \"input_ids\": batch[\"ligand_input_ids\"].to(device),\n",
    "#             \"attention_mask\": batch[\"ligand_attention_mask\"].to(device)\n",
    "#         }\n",
    "# prot_inputs = {\n",
    "#             \"input_ids\": batch[\"protein_input_ids\"].to(device),\n",
    "#             \"attention_mask\": batch[\"protein_attention_mask\"].to(device)\n",
    "#         }\n",
    "# o = esm_model(**prot_inputs)\n",
    "# o['last_hidden_state'].shape"
   ]
  },
  {
   "cell_type": "code",
   "execution_count": 23,
   "id": "0ce22cea",
   "metadata": {},
   "outputs": [
    {
     "name": "stdout",
     "output_type": "stream",
     "text": [
      "Using device cuda\n"
     ]
    },
    {
     "name": "stderr",
     "output_type": "stream",
     "text": [
      "Some weights of EsmModel were not initialized from the model checkpoint at facebook/esm2_t33_650M_UR50D and are newly initialized: ['esm.pooler.dense.bias', 'esm.pooler.dense.weight']\n",
      "You should probably TRAIN this model on a down-stream task to be able to use it for predictions and inference.\n"
     ]
    }
   ],
   "source": [
    "# Training loop \n",
    "import torch.nn as nn\n",
    "from tqdm import tqdm\n",
    "\n",
    "WARMUP_STEPS = 200\n",
    "EPOCHS = 1\n",
    "\n",
    "def lr_lambda(step):\n",
    "    if step < WARMUP_STEPS:\n",
    "        # Linear warmup\n",
    "        return step / WARMUP_STEPS\n",
    "    else:\n",
    "        remaining_steps = total_steps - WARMUP_STEPS\n",
    "        decay_step = step - WARMUP_STEPS\n",
    "        return max(0.0, 1.0 - decay_step / remaining_steps)\n",
    "\n",
    "device = torch.device(\"cuda\" if torch.cuda.is_available() else \"cpu\")\n",
    "print(f\"Using device {device}\")\n",
    "model = BindingAffinityModelWithMultiHeadCrossAttention(esm_model_name, chem_model_name).to(device)\n",
    "criterion = nn.MSELoss()\n",
    "optimizer = torch.optim.AdamW(model.parameters(), lr=1e-4)\n",
    "# scheduler = torch.optim.lr_scheduler.ReduceLROnPlateau(optimizer, mode='min', factor=0.1, patience=0)\n",
    "scheduler = torch.optim.lr_scheduler.LambdaLR(optimizer, lr_lambda)\n",
    "total_steps = EPOCHS * len(train_dataloader)\n",
    "\n",
    "\n",
    "def train_model(model, train_dataloader, val_dataloader):\n",
    "    step = 0\n",
    "\n",
    "    for epoch in range(EPOCHS):\n",
    "        print(f\"Epoch: {epoch + 1}/{EPOCHS}\")\n",
    "        model.train()\n",
    "        train_loss = 0.0\n",
    "        train_progress = tqdm(train_dataloader, desc=\"Training\")\n",
    "\n",
    "        for batch in train_progress:\n",
    "            ligand_input_ids = batch[\"ligand_input_ids\"].to(device)\n",
    "            ligand_attention_mask = batch[\"ligand_attention_mask\"].to(device)\n",
    "            protein_input_ids = batch[\"protein_input_ids\"].to(device)\n",
    "            protein_attention_mask = batch[\"protein_attention_mask\"].to(device)\n",
    "            targets = batch[\"ic50\"].unsqueeze(dim=-1).to(device)\n",
    "            optimizer.zero_grad()\n",
    "            preds = model(ligand_input_ids, ligand_attention_mask, protein_input_ids, protein_attention_mask)\n",
    "            loss = criterion(preds, targets)\n",
    "            loss.backward()\n",
    "            train_loss += loss.item()\n",
    "            step += 1\n",
    "            optimizer.step()\n",
    "            scheduler.step()\n",
    "\n",
    "            if step % 100 == 0:\n",
    "                wandb.log({\"train_loss\": loss.item()})\n",
    "                wandb.log({\"lr\": optimizer.param_groups[0][\"lr\"]})\n",
    "\n",
    "        train_loss /= len(train_dataloader)\n",
    "        print(f\"Epoch: {epoch} Train loss: {train_loss}\")\n",
    "\n",
    "        step = 0\n",
    "        model.eval()\n",
    "        val_loss = 0.0\n",
    "        val_progress = tqdm(val_dataloader, desc=\"Validation\")\n",
    "        with torch.no_grad():\n",
    "            for batch in val_progress:\n",
    "                ligand_input_ids = batch[\"ligand_input_ids\"].to(device)\n",
    "                ligand_attention_mask = batch[\"ligand_attention_mask\"].to(device)\n",
    "                protein_input_ids = batch[\"protein_input_ids\"].to(device)\n",
    "                protein_attention_mask = batch[\"protein_attention_mask\"].to(device)\n",
    "                targets = batch[\"ic50\"].unsqueeze(dim=-1).to(device)\n",
    "                preds = model(ligand_input_ids, ligand_attention_mask, protein_input_ids, protein_attention_mask)\n",
    "                loss = criterion(preds, targets)\n",
    "                val_loss += loss.item()\n",
    "                step += 1\n",
    "                if step % 10 == 0:\n",
    "                    wandb.log({\"val_loss\": loss.item()})\n",
    "                \n",
    "        val_loss /= len(val_dataloader)\n",
    "        scheduler.step(val_loss)\n",
    "        print(f\"Epoch: {epoch} Val loss: {val_loss}\")"
   ]
  },
  {
   "cell_type": "code",
   "execution_count": 24,
   "id": "ecc7ce6e",
   "metadata": {},
   "outputs": [
    {
     "name": "stdout",
     "output_type": "stream",
     "text": [
      "Epoch: 1/1\n"
     ]
    },
    {
     "name": "stderr",
     "output_type": "stream",
     "text": [
      "Training: 100%|██████████| 105/105 [04:34<00:00,  2.61s/it]\n"
     ]
    },
    {
     "name": "stdout",
     "output_type": "stream",
     "text": [
      "Epoch: 0 Train loss: 19.98928334372384\n"
     ]
    },
    {
     "name": "stderr",
     "output_type": "stream",
     "text": [
      "Validation: 100%|██████████| 14/14 [00:27<00:00,  1.99s/it]"
     ]
    },
    {
     "name": "stdout",
     "output_type": "stream",
     "text": [
      "Epoch: 0 Val loss: 14.828462055751256\n"
     ]
    },
    {
     "name": "stderr",
     "output_type": "stream",
     "text": [
      "\n"
     ]
    }
   ],
   "source": [
    "train_model(model, train_dataloader, test_dataloader)"
   ]
  },
  {
   "cell_type": "code",
   "execution_count": 25,
   "id": "57cdca96",
   "metadata": {},
   "outputs": [],
   "source": [
    "torch.save(model.state_dict(), \"affinity.pt\")"
   ]
  },
  {
   "cell_type": "code",
   "execution_count": 26,
   "id": "72a79741",
   "metadata": {},
   "outputs": [],
   "source": [
    "# Evaluation on test set \n",
    "def evaluate_model(model, test_loader):\n",
    "    model.eval()\n",
    "    all_predictions = []\n",
    "    all_targets = []\n",
    "    test_progress = tqdm(test_loader, desc=\"Test set\")\n",
    "    with torch.no_grad():\n",
    "        for batch in test_progress:\n",
    "            ligand_input_ids = batch[\"ligand_input_ids\"].to(device)\n",
    "            ligand_attention_mask = batch[\"ligand_attention_mask\"].to(device)\n",
    "            protein_input_ids = batch[\"protein_input_ids\"].to(device)\n",
    "            protein_attention_mask = batch[\"protein_attention_mask\"].to(device)\n",
    "            targets = batch[\"ic50\"].unsqueeze(dim=-1).to(device)\n",
    "            preds = model(ligand_input_ids, ligand_attention_mask, protein_input_ids, protein_attention_mask)\n",
    "            all_targets.append(targets)\n",
    "            all_predictions.append(preds)\n",
    "\n",
    "    all_predictions = torch.cat(all_predictions)\n",
    "    all_targets = torch.cat(all_targets)\n",
    "\n",
    "    loss = torch.nn.MSELoss()\n",
    "    print(f\"Test set mean squared error: {loss(all_predictions, all_targets)}\")\n",
    "            "
   ]
  },
  {
   "cell_type": "code",
   "execution_count": 27,
   "id": "5d5b8659",
   "metadata": {},
   "outputs": [
    {
     "name": "stderr",
     "output_type": "stream",
     "text": [
      "Test set: 100%|██████████| 14/14 [00:27<00:00,  1.96s/it]"
     ]
    },
    {
     "name": "stdout",
     "output_type": "stream",
     "text": [
      "Test set mean squared error: 13.255571365356445\n"
     ]
    },
    {
     "name": "stderr",
     "output_type": "stream",
     "text": [
      "\n"
     ]
    }
   ],
   "source": [
    "evaluate_model(model, test_loader=test_dataloader)"
   ]
  }
 ],
 "metadata": {
  "kernelspec": {
   "display_name": "Python 3 (ipykernel)",
   "language": "python",
   "name": "python3"
  },
  "language_info": {
   "codemirror_mode": {
    "name": "ipython",
    "version": 3
   },
   "file_extension": ".py",
   "mimetype": "text/x-python",
   "name": "python",
   "nbconvert_exporter": "python",
   "pygments_lexer": "ipython3",
   "version": "3.1.0"
  }
 },
 "nbformat": 4,
 "nbformat_minor": 5
}
