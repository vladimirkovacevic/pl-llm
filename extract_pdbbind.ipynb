{
 "cells": [
  {
   "cell_type": "code",
   "execution_count": 2,
   "metadata": {},
   "outputs": [],
   "source": [
    "import rdkit\n",
    "from pathlib import Path\n",
    "\n",
    "path_to_refined = \"pdbbind/refined-set/\"\n",
    "path_to_general = \"pdbbind/v2020-other-PL\""
   ]
  },
  {
   "cell_type": "code",
   "execution_count": 13,
   "metadata": {},
   "outputs": [],
   "source": [
    "def extract_mol2_pdb_id(mol2_file):\n",
    "    pdb_id = None\n",
    "    ligand_name = None\n",
    "    with open(mol2_file, 'r') as f:\n",
    "        for line in f:\n",
    "            if line.startswith(\"@<TRIPOS>MOLECULE\"):\n",
    "                ligand_name = next(f).strip()  # The next line is usually the ligand name\n",
    "                pdb_id = ligand_name.split(\"_\")[0]  # If named like \"4HWP_ligand\", extract \"4HWP\"\n",
    "                break\n",
    "    return pdb_id"
   ]
  },
  {
   "cell_type": "code",
   "execution_count": 1,
   "metadata": {},
   "outputs": [],
   "source": [
    "from rdkit import Chem\n",
    "from Bio import PDB\n",
    "\n",
    "all_smiles = []\n",
    "all_sequences = []\n",
    "parser = PDB.PDBParser(QUIET=True)\n",
    "aa_map = { \n",
    "        \"ALA\": \"A\", \"ARG\": \"R\", \"ASN\": \"N\", \"ASP\": \"D\", \"CYS\": \"C\",\n",
    "        \"GLN\": \"Q\", \"GLU\": \"E\", \"GLY\": \"G\", \"HIS\": \"H\", \"ILE\": \"I\",\n",
    "        \"LEU\": \"L\", \"LYS\": \"K\", \"MET\": \"M\", \"PHE\": \"F\", \"PRO\": \"P\",\n",
    "        \"SER\": \"S\", \"THR\": \"T\", \"TRP\": \"W\", \"TYR\": \"Y\", \"VAL\": \"V\"\n",
    "    }\n",
    "\n",
    "for subdir in Path(path_to_refined).iterdir():\n",
    "    if subdir.is_dir():\n",
    "        mol2_file = next(subdir.glob(\"*.mol2\"), None)\n",
    "        protein_file = next(subdir.glob(\"*protein.pdb\"), None)\n",
    "        if mol2_file:\n",
    "            pdb_id = extract_mol2_pdb_id(mol2_file)\n",
    "            mol = Chem.MolFromMol2File(str(mol2_file), removeHs=False)\n",
    "            if mol:\n",
    "                smiles = Chem.MolToSmiles(mol)\n",
    "                all_smiles.append(smiles)\n",
    "        if protein_file:\n",
    "            structure = parser.get_structure(\"protein\", protein_file)\n",
    "            sequence = \"\"\n",
    "            m = 0\n",
    "            c = 0\n",
    "            for model in structure:\n",
    "                m += 1\n",
    "                for chain in model:\n",
    "                    c += 1\n",
    "                    for residue in chain:\n",
    "                        res_name = residue.get_resname()\n",
    "                        if res_name in aa_map:\n",
    "                            sequence += aa_map[res_name]\n",
    "                        else:\n",
    "                            print(f\"Missing residue {res_name}\")\n",
    "            if m > 1:\n",
    "                print(\"Protein with 2+ models\")\n",
    "            if c > 1:\n",
    "                print(\"Protein with 2+ chains\")\n",
    "            all_sequences.append(sequence)\n"
   ]
  },
  {
   "cell_type": "code",
   "execution_count": 4,
   "metadata": {},
   "outputs": [],
   "source": [
    "structure = parser.get_structure(\"protein\", \"pdbbind/v2020-other-PL/11gs/11gs_protein.pdb\")"
   ]
  },
  {
   "cell_type": "code",
   "execution_count": 5,
   "metadata": {},
   "outputs": [],
   "source": [
    "from Bio.SeqUtils import seq1\n",
    "chains = {chain.id:seq1(''.join(residue.resname for residue in chain)) for chain in structure.get_chains()}"
   ]
  },
  {
   "cell_type": "code",
   "execution_count": 9,
   "metadata": {},
   "outputs": [
    {
     "data": {
      "text/plain": [
       "{'A': 'PYTVVYFPVRGRCAALRMLLADQGQSWKEEVVTVETWQEGSLKASCLYGQLPKFQDGDLTLYQSNTILRHLGRTLGLYGKDQQEAALVDMVNDGVEDLRCKYISLIYTNYEAGKDDYVKALPGQLKPFETLLSQNQGGKTFIVGDQISFADYNLLDLLLIHEVLAPGCLDAFPLLSAYVGRLSARPKLKAFLASPEYVNLPINGNGKQ',\n",
       " 'B': 'PYTVVYFPVRGRCAALRMLLADQGQSWKEEVVTVETWQEGSLKASCLYGQLPKFQDGDLTLYQSNTILRHLGRTLGLYGKDQQEAALVDMVNDGVEDLRCKYISLIYTNYEAGKDDYVKALPGQLKPFETLLSQNQGGKTFIVGDQISFADYNLLDLLLIHEVLAPGCLDAFPLLSAYVGRLSARPKLKAFLASPEYVNLPINGNGKQ',\n",
       " ' ': 'XXXXXXXXXXXXXXXXXXXXXXXXXXXXXXXXXXXXXXXXXXXXXXXXXXXXXXXXXXXXXXXXXXXXXXXXXXXXXXXXXXXXXXXXXXXXXXXXXXXXXXXXXXXXXXXXXXXXXXXXXXXXXXXXXXXXXXXXXXXXXXXXXXXXXXXXXXXXXXXXXXXXXXXXXXXXXX'}"
      ]
     },
     "execution_count": 9,
     "metadata": {},
     "output_type": "execute_result"
    }
   ],
   "source": [
    "chains"
   ]
  }
 ],
 "metadata": {
  "kernelspec": {
   "display_name": "esm_env",
   "language": "python",
   "name": "python3"
  },
  "language_info": {
   "codemirror_mode": {
    "name": "ipython",
    "version": 3
   },
   "file_extension": ".py",
   "mimetype": "text/x-python",
   "name": "python",
   "nbconvert_exporter": "python",
   "pygments_lexer": "ipython3",
   "version": "3.10.15"
  }
 },
 "nbformat": 4,
 "nbformat_minor": 2
}
